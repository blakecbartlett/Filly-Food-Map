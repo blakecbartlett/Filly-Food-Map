{
 "cells": [
  {
   "cell_type": "code",
   "execution_count": 1,
   "metadata": {},
   "outputs": [
    {
     "name": "stdout",
     "output_type": "stream",
     "text": [
      "                                          attributes price_rating\n",
      "0  {'RestaurantsAttire': \"'casual'\",  'Restaurant...            4\n",
      "1  {'RestaurantsPriceRange2': '2', 'RestaurantsAt...            2\n",
      "2  {'RestaurantsAttire': \"u'dressy'\", 'Restaurant...            3\n",
      "3  {'RestaurantsReservations': 'False',  'Busines...            2\n",
      "4  {'BYOBCorkage': \"'yes_free'\", 'NoiseLevel': \"u...            2\n"
     ]
    }
   ],
   "source": [
    "# Duke Code to strip out price rating into own column\n",
    "import pandas as pd\n",
    "import re\n",
    "import json\n",
    "import csv\n",
    "\n",
    "# Load the CSV file\n",
    "file_path = 'yelp_academic_dataset.csv'\n",
    "data = pd.read_csv(file_path, encoding='ISO-8859-1')\n",
    "\n",
    "# Define a function to extract the price rating\n",
    "def extract_price_rating(attributes):\n",
    "    if pd.isna(attributes):\n",
    "        return None\n",
    "    match = re.search(r\"'RestaurantsPriceRange2': '(\\d)'\", attributes)\n",
    "    return match.group(1) if match else None\n",
    "\n",
    "# Apply the function to the 'attributes' column to create a new 'price_rating' column\n",
    "data['price_rating'] = data['attributes'].apply(extract_price_rating)\n",
    "print(data[['attributes', 'price_rating']].head())\n",
    "# Save the updated DataFrame to a new CSV file\n",
    "#data.to_csv('yelp_academic_dataset_with_price_rating.csv', index=False)\n",
    "\n",
    "#Michael code to clean up attributes column\n",
    "# Clean up the 'attributes' column\n",
    "data['attributes'] = data['attributes'].apply(lambda x: json.dumps(x, ensure_ascii=False).replace(\"'\", \"\"))\n",
    "\n",
    "# Save the updated DataFrame to a new CSV file\n",
    "data.to_csv('yelp_academic_dataset_with_price_rating.csv', index=False, quoting=csv.QUOTE_ALL)\n"
   ]
  },
  {
   "cell_type": "code",
   "execution_count": null,
   "metadata": {},
   "outputs": [],
   "source": []
  }
 ],
 "metadata": {
  "kernelspec": {
   "display_name": "base",
   "language": "python",
   "name": "python3"
  },
  "language_info": {
   "codemirror_mode": {
    "name": "ipython",
    "version": 3
   },
   "file_extension": ".py",
   "mimetype": "text/x-python",
   "name": "python",
   "nbconvert_exporter": "python",
   "pygments_lexer": "ipython3",
   "version": "3.11.7"
  }
 },
 "nbformat": 4,
 "nbformat_minor": 2
}
